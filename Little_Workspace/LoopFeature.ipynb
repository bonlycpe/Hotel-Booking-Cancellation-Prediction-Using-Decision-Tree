{
 "cells": [
  {
   "cell_type": "markdown",
   "id": "75bc0a4e",
   "metadata": {},
   "source": [
    "# Import"
   ]
  },
  {
   "cell_type": "code",
   "execution_count": 2,
   "id": "af6102e2",
   "metadata": {},
   "outputs": [],
   "source": [
    "import pandas as pd\n",
    "import numpy as np\n",
    "import matplotlib.pyplot as plt\n",
    "import seaborn as sns\n",
    "import missingno as msno\n",
    "\n",
    "import warnings\n",
    "warnings.filterwarnings('ignore')\n",
    "\n",
    "from sklearn.model_selection import train_test_split, GridSearchCV\n",
    "from sklearn.metrics import accuracy_score, confusion_matrix, classification_report\n",
    "from sklearn.tree import DecisionTreeClassifier\n",
    "import plotly.express as px"
   ]
  },
  {
   "cell_type": "code",
   "execution_count": null,
   "id": "487db3cf",
   "metadata": {},
   "outputs": [],
   "source": []
  },
  {
   "cell_type": "code",
   "execution_count": null,
   "id": "42ef0738",
   "metadata": {},
   "outputs": [],
   "source": []
  },
  {
   "cell_type": "code",
   "execution_count": null,
   "id": "d74ee274",
   "metadata": {},
   "outputs": [],
   "source": []
  },
  {
   "cell_type": "code",
   "execution_count": 3,
   "id": "42b761ba",
   "metadata": {},
   "outputs": [],
   "source": [
    "def checkVar(X,y):\n",
    "    check = pd.concat([ X,y ], axis = 1)\n",
    "\n",
    "    clist=[]\n",
    "    for column in check:\n",
    "        clist.append(column)\n",
    "    return clist"
   ]
  },
  {
   "cell_type": "code",
   "execution_count": 4,
   "id": "b675f160",
   "metadata": {},
   "outputs": [],
   "source": [
    "def doDecision(X,y):\n",
    "    # splitting data into training set and test set\n",
    "    X_train, X_test, y_train, y_test = train_test_split(X, y, test_size = 0.30)\n",
    "\n",
    "    dtc = DecisionTreeClassifier()\n",
    "    dtc.fit(X_train, y_train)\n",
    "\n",
    "    y_pred_dtc = dtc.predict(X_test)\n",
    "    \n",
    "    print(y_pred_dtc)\n",
    "\n",
    "    acc_dtc = accuracy_score(y_test, y_pred_dtc)\n",
    "    conf = confusion_matrix(y_test, y_pred_dtc)\n",
    "    clf_report = classification_report(y_test, y_pred_dtc)\n",
    "\n",
    "    print(f\"Accuracy Score of Decision Tree is : {acc_dtc}\")\n",
    "    print(f\"Confusion Matrix : \\n{conf}\")\n",
    "    print(f\"Classification Report : \\n{clf_report}\")"
   ]
  },
  {
   "cell_type": "code",
   "execution_count": 5,
   "id": "b852040b",
   "metadata": {},
   "outputs": [],
   "source": [
    "def FillNA(df):\n",
    "    # แยกค่า NULL\n",
    "    null = pd.DataFrame({'Null Values' : df.isna().sum(), 'Percentage Null Values' : (df.isna().sum()) / (df.shape[0]) * (100)})\n",
    "\n",
    "    # filling null values with zero\n",
    "    df.fillna(0, inplace = True)\n",
    "\n",
    "    # ทั้ง 3 collumn จะเป็น 0 หมด  ไม่ได้\n",
    "    filter = (df.children == 0) & (df.adults == 0) & (df.babies == 0)\n",
    "\n",
    "    # เอา Record ที่ 3 column เป็น 0 ออก\n",
    "    df = df[~filter]\n",
    "    \n",
    "    return df"
   ]
  },
  {
   "cell_type": "code",
   "execution_count": 6,
   "id": "8174e347",
   "metadata": {},
   "outputs": [
    {
     "ename": "NameError",
     "evalue": "name 'df' is not defined",
     "output_type": "error",
     "traceback": [
      "\u001b[1;31m---------------------------------------------------------------------------\u001b[0m",
      "\u001b[1;31mNameError\u001b[0m                                 Traceback (most recent call last)",
      "Cell \u001b[1;32mIn [6], line 1\u001b[0m\n\u001b[1;32m----> 1\u001b[0m \u001b[38;5;28;01mdef\u001b[39;00m \u001b[38;5;21mdoPreProcess\u001b[39m(df, TopCorr\u001b[38;5;241m=\u001b[39m\u001b[38;5;28mlen\u001b[39m( \u001b[43mdf\u001b[49m\u001b[38;5;241m.\u001b[39mcorr(method \u001b[38;5;241m=\u001b[39m\u001b[38;5;124m'\u001b[39m\u001b[38;5;124mpearson\u001b[39m\u001b[38;5;124m'\u001b[39m)[\u001b[38;5;124m'\u001b[39m\u001b[38;5;124mis_canceled\u001b[39m\u001b[38;5;124m'\u001b[39m]\u001b[38;5;241m.\u001b[39mabs()\u001b[38;5;241m.\u001b[39msort_values(ascending \u001b[38;5;241m=\u001b[39m \u001b[38;5;28;01mFalse\u001b[39;00m) )  ):\n\u001b[0;32m      3\u001b[0m     df \u001b[38;5;241m=\u001b[39m FillNA(df)\n\u001b[0;32m      6\u001b[0m     correlation \u001b[38;5;241m=\u001b[39m df\u001b[38;5;241m.\u001b[39mcorr(method \u001b[38;5;241m=\u001b[39m\u001b[38;5;124m'\u001b[39m\u001b[38;5;124mpearson\u001b[39m\u001b[38;5;124m'\u001b[39m)[\u001b[38;5;124m'\u001b[39m\u001b[38;5;124mis_canceled\u001b[39m\u001b[38;5;124m'\u001b[39m]\u001b[38;5;241m.\u001b[39mabs()\u001b[38;5;241m.\u001b[39msort_values(ascending \u001b[38;5;241m=\u001b[39m \u001b[38;5;28;01mFalse\u001b[39;00m) \n",
      "\u001b[1;31mNameError\u001b[0m: name 'df' is not defined"
     ]
    }
   ],
   "source": [
    "def doPreProcess(df, TopCorr=len( df.corr(method ='pearson')['is_canceled'].abs().sort_values(ascending = False) )  ):\n",
    "    \n",
    "    df = FillNA(df)\n",
    "\n",
    "    \n",
    "    correlation = df.corr(method ='pearson')['is_canceled'].abs().sort_values(ascending = False) \n",
    "    corrIndex=[]\n",
    "    for index in correlation.index :\n",
    "        corrIndex.append(index)\n",
    "\n",
    "    useCorr = []\n",
    "    for index in range(0,TopCorr) :\n",
    "        useCorr.append(corrIndex[index])\n",
    "\n",
    "\n",
    "    # dropping columns that are not useful\n",
    "    useless_col = []\n",
    "#     useless_col = ['days_in_waiting_list', 'arrival_date_year', 'assigned_room_type',\n",
    "#                    'reservation_status', 'country', 'days_in_waiting_list']\n",
    "    for x in corrIndex:\n",
    "        if(x not in useCorr):\n",
    "            useless_col.append(x)\n",
    "    \n",
    "\n",
    "    \n",
    "    \n",
    "    df.drop(useless_col, axis = 1, inplace = True)\n",
    "\n",
    "\n",
    "    # creating categorical dataframes\n",
    "    cat_cols = [col for col in df.columns if df[col].dtype == 'O']\n",
    "    cat_df = df[cat_cols]\n",
    "\n",
    "    cat_df['reservation_status_date'] = pd.to_datetime(cat_df['reservation_status_date'])\n",
    "    cat_df['year'] = cat_df['reservation_status_date'].dt.year\n",
    "    cat_df['month'] = cat_df['reservation_status_date'].dt.month\n",
    "    cat_df['day'] = cat_df['reservation_status_date'].dt.day\n",
    "    cat_df.drop(['reservation_status_date','arrival_date_month'] , axis = 1, inplace = True)\n",
    "    cat_df['hotel'] = cat_df['hotel'].map({'Resort Hotel' : 0, 'City Hotel' : 1})\n",
    "    cat_df['meal'] = cat_df['meal'].map({'BB' : 0, 'FB': 1, 'HB': 2, 'SC': 3, 'Undefined': 4})\n",
    "    cat_df['market_segment'] = cat_df['market_segment'].map({'Direct': 0, 'Corporate': 1, 'Online TA': 2, 'Offline TA/TO': 3,\n",
    "                                                             'Complementary': 4, 'Groups': 5, 'Undefined': 6, 'Aviation': 7})\n",
    "    cat_df['distribution_channel'] = cat_df['distribution_channel'].map({'Direct': 0, 'Corporate': 1, 'TA/TO': 2, 'Undefined': 3,\n",
    "                                                                           'GDS': 4})\n",
    "    cat_df['reserved_room_type'] = cat_df['reserved_room_type'].map({'C': 0, 'A': 1, 'D': 2, 'E': 3, 'G': 4, 'F': 5, 'H': 6,\n",
    "                                                                       'L': 7, 'B': 8})\n",
    "    cat_df['deposit_type'] = cat_df['deposit_type'].map({'No Deposit': 0, 'Refundable': 1, 'Non Refund': 3})\n",
    "    cat_df['customer_type'] = cat_df['customer_type'].map({'Transient': 0, 'Contract': 1, 'Transient-Party': 2, 'Group': 3})\n",
    "    cat_df['year'] = cat_df['year'].map({2015: 0, 2014: 1, 2016: 2, 2017: 3})\n",
    "\n",
    "    num_df = df.drop(columns = cat_cols, axis = 1)\n",
    "    num_df.drop('is_canceled', axis = 1, inplace = True)\n",
    "    num_df\n",
    "\n",
    "    # normalizing numerical variables\n",
    "\n",
    "    num_df['lead_time'] = np.log(num_df['lead_time'] + 1)\n",
    "    num_df['arrival_date_week_number'] = np.log(num_df['arrival_date_week_number'] + 1)\n",
    "    num_df['arrival_date_day_of_month'] = np.log(num_df['arrival_date_day_of_month'] + 1)\n",
    "    num_df['agent'] = np.log(num_df['agent'] + 1)\n",
    "    num_df['company'] = np.log(num_df['company'] + 1)\n",
    "    num_df['adr'] = np.log(num_df['adr'] + 1)\n",
    "    num_df['adr'] = num_df['adr'].fillna(value = num_df['adr'].mean())\n",
    "    \n",
    "    X = pd.concat([cat_df, num_df], axis = 1)\n",
    "    y = df['is_canceled']\n",
    "    return X,y\n",
    "    "
   ]
  },
  {
   "cell_type": "code",
   "execution_count": null,
   "id": "2ad6c41e",
   "metadata": {
    "scrolled": true
   },
   "outputs": [],
   "source": [
    "df = pd.read_csv(r'./hotel_bookings.csv')\n",
    "TopCorr = len(df.corr(method ='pearson')['is_canceled'].abs().sort_values(ascending = False))\n",
    "\n",
    "\n",
    "X,y = doPreProcess(df, TopCorr)\n",
    "doDecision(X,y)\n",
    "\n",
    "# var = checkVar(X,y)\n",
    "# print(\"variable x : \",len(var))\n",
    "# for i in var:\n",
    "#     print(i)"
   ]
  },
  {
   "cell_type": "code",
   "execution_count": null,
   "id": "ef2b45a0",
   "metadata": {},
   "outputs": [],
   "source": []
  },
  {
   "cell_type": "markdown",
   "id": "9ef59c20",
   "metadata": {},
   "source": [
    "### List ตัวแปรที่ตัด\n",
    "assigned_room_type เป็นตัวแปรที่ต่างเฉพาะ Operation ของโรงแรม\n",
    "reservation_status ในเมื่อเราเช็คที่ว่ายกเลิกไหม  Status สุดท้ายไม่จำเป็น"
   ]
  },
  {
   "cell_type": "code",
   "execution_count": null,
   "id": "cd777776",
   "metadata": {},
   "outputs": [],
   "source": []
  },
  {
   "cell_type": "code",
   "execution_count": null,
   "id": "07179248",
   "metadata": {},
   "outputs": [],
   "source": []
  }
 ],
 "metadata": {
  "kernelspec": {
   "display_name": "Python [conda env:forecastAI]",
   "language": "python",
   "name": "conda-env-forecastAI-py"
  },
  "language_info": {
   "codemirror_mode": {
    "name": "ipython",
    "version": 3
   },
   "file_extension": ".py",
   "mimetype": "text/x-python",
   "name": "python",
   "nbconvert_exporter": "python",
   "pygments_lexer": "ipython3",
   "version": "3.9.15"
  }
 },
 "nbformat": 4,
 "nbformat_minor": 5
}
